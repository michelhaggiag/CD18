{
 "cells": [
  {
   "cell_type": "markdown",
   "metadata": {},
   "source": [
    "# Boxplot"
   ]
  },
  {
   "cell_type": "markdown",
   "metadata": {},
   "source": [
    "O boxplot contém a representação dos quartis e uma noção do que são dados aberrantes (outliers). \n",
    "Para construi-lo:\n",
    "  1. Desenhar um retângulo (azul) que representa o 1o e 3o quartis, que chamaremos de Q1 e Q3. O tamanho entre eles é chamado de intervalo interquartil ou IQ.\n",
    "  2. Traçar uma linha (verde) dentro do retângulo que presenta a mediana (2.o quartil)\n",
    "  3. Os limites representados pelas linhas pretas horizontais fora do retângulo (bigodes) representam o conjunto dos dados que está dentro do intervalo Q1-1.5IQ e Q3+1.5IQ.\n",
    "  4. As bolinhas são os outliers ou valores atípicos. São considerados outliers todos valores fora dos limites desenhados pelo item 3 (Q1-1.5IQ e Q3+1.5IQ).\n",
    "  \n",
    "  Vamos praticar fazendo o boxplot da lista abaixo:\n",
    "\n",
    "---"
   ]
  },
  {
   "cell_type": "code",
   "execution_count": 1,
   "metadata": {},
   "outputs": [],
   "source": [
    "lista = [23, 22, 22, 28, 25, 26, 27, 24]"
   ]
  },
  {
   "cell_type": "markdown",
   "metadata": {},
   "source": []
  }
 ],
 "metadata": {
  "kernelspec": {
   "display_name": "Python 3",
   "language": "python",
   "name": "python3"
  },
  "language_info": {
   "codemirror_mode": {
    "name": "ipython",
    "version": 3
   },
   "file_extension": ".py",
   "mimetype": "text/x-python",
   "name": "python",
   "nbconvert_exporter": "python",
   "pygments_lexer": "ipython3",
   "version": "3.5.5"
  }
 },
 "nbformat": 4,
 "nbformat_minor": 2
}
